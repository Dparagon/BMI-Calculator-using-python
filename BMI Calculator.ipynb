{
 "cells": [
  {
   "cell_type": "markdown",
   "id": "bc427ffd-9023-4b19-9b5c-7e5a2e9ea2b9",
   "metadata": {},
   "source": [
    "### Builiding a BMI Calculator\n",
    "\n",
    "#### Body Mass Index (BMI) is a measurement of body fat based on height and weight."
   ]
  },
  {
   "cell_type": "code",
   "execution_count": null,
   "id": "4a7b21f6-2118-4b5f-af41-752b8e689be1",
   "metadata": {},
   "outputs": [],
   "source": [
    "Name = input(\"Enter your name: \")\n",
    "\n",
    "Age = int(input(\"Enter your age: \"))\n",
    "\n",
    "Weight = int(input(\"Enter your weight (Pounds): \"))\n",
    "\n",
    "Height = int(input(\"Enter your height (Inches): \"))\n",
    "\n",
    "BMI = (Weight * 703) / (Height * Height)\n",
    "\n",
    "print(BMI)\n",
    "\n",
    "if BMI < 18.5:\n",
    "    print('BMI RESULT = ' + Name + ', you are Underweight. Your health risk is MINIMAL')\n",
    "elif BMI <= 24.9:\n",
    "    print('BMI RESULT = ' + Name + ', you are Normal Weight. Your health risk is MINIMAL')\n",
    "elif BMI <= 29.9:\n",
    "    print('BMI RESULT = ' + Name + ', you are Overweight. Your health risk is INCREASED')\n",
    "elif BMI <= 34.9:\n",
    "    print('BMI RESULT = ' + Name + ', you are Obese. Your health risk is HIGH.')\n",
    "elif BMI <= 39.9:\n",
    "    print('BMI RESULT = ' + Name + ', you are Severly Obese. Your health risk is VERY HIGH.')\n",
    "else:\n",
    "    print('BMI RESULT = ' + Name + ', you are Morbidly Obese. Your health risk is EXTREMELY HIGH.')"
   ]
  },
  {
   "cell_type": "code",
   "execution_count": null,
   "id": "5714e07d-eabe-4f0e-9829-5abe5f73cceb",
   "metadata": {},
   "outputs": [],
   "source": []
  }
 ],
 "metadata": {
  "kernelspec": {
   "display_name": "Python 3 (ipykernel)",
   "language": "python",
   "name": "python3"
  },
  "language_info": {
   "codemirror_mode": {
    "name": "ipython",
    "version": 3
   },
   "file_extension": ".py",
   "mimetype": "text/x-python",
   "name": "python",
   "nbconvert_exporter": "python",
   "pygments_lexer": "ipython3",
   "version": "3.11.7"
  }
 },
 "nbformat": 4,
 "nbformat_minor": 5
}
